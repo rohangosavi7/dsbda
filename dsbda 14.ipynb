{
 "cells": [
  {
   "cell_type": "code",
   "execution_count": 2,
   "id": "2e3c8826",
   "metadata": {},
   "outputs": [],
   "source": [
    "import pandas as pd"
   ]
  },
  {
   "cell_type": "code",
   "execution_count": 4,
   "id": "46afd7af",
   "metadata": {},
   "outputs": [],
   "source": [
    "df = pd.read_csv('tweets.csv')"
   ]
  },
  {
   "cell_type": "code",
   "execution_count": null,
   "id": "54332de6",
   "metadata": {},
   "outputs": [],
   "source": [
    "df.shape"
   ]
  },
  {
   "cell_type": "code",
   "execution_count": 3,
   "id": "c11c4158",
   "metadata": {},
   "outputs": [],
   "source": [
    "df = pd.read_csv('tweets.csv', nrows = 10000)"
   ]
  },
  {
   "cell_type": "code",
   "execution_count": null,
   "id": "8d6016fb",
   "metadata": {},
   "outputs": [],
   "source": [
    "df.shape\n",
    "df"
   ]
  },
  {
   "cell_type": "code",
   "execution_count": null,
   "id": "30a2ebb0",
   "metadata": {},
   "outputs": [],
   "source": [
    "df['tweets_len'] = df['tweet'].apply(lambda x : len(x))"
   ]
  },
  {
   "cell_type": "code",
   "execution_count": null,
   "id": "afcd78c0",
   "metadata": {},
   "outputs": [],
   "source": [
    "df"
   ]
  },
  {
   "cell_type": "code",
   "execution_count": null,
   "id": "3ae99ca5",
   "metadata": {},
   "outputs": [],
   "source": [
    "sent = 'Hii, Where are you ?'"
   ]
  },
  {
   "cell_type": "code",
   "execution_count": null,
   "id": "d62daa41",
   "metadata": {},
   "outputs": [],
   "source": [
    "import string"
   ]
  },
  {
   "cell_type": "code",
   "execution_count": null,
   "id": "0ad2b131",
   "metadata": {},
   "outputs": [],
   "source": [
    "string.punctuation"
   ]
  },
  {
   "cell_type": "code",
   "execution_count": null,
   "id": "988838a3",
   "metadata": {},
   "outputs": [],
   "source": [
    "count = sum([1 for x in sent if x in string.punctuation])"
   ]
  },
  {
   "cell_type": "code",
   "execution_count": null,
   "id": "33c6b7ca",
   "metadata": {},
   "outputs": [],
   "source": [
    "per = count / (len(sent) - sent.count (' '))"
   ]
  },
  {
   "cell_type": "code",
   "execution_count": null,
   "id": "129598dd",
   "metadata": {},
   "outputs": [],
   "source": [
    "per"
   ]
  },
  {
   "cell_type": "code",
   "execution_count": null,
   "id": "b16c52b4",
   "metadata": {},
   "outputs": [],
   "source": [
    "def count_punct(sent):\n",
    "    count = sum([1 for x in sent if x in string.punctuation])\n",
    "    p= round(count/ (len(sent) - sent.count ( ' ' )) * 100, 2)\n",
    "    return p"
   ]
  },
  {
   "cell_type": "code",
   "execution_count": null,
   "id": "fc5bcd48",
   "metadata": {},
   "outputs": [],
   "source": [
    "count_punct(sent)"
   ]
  },
  {
   "cell_type": "code",
   "execution_count": null,
   "id": "61f94660",
   "metadata": {},
   "outputs": [],
   "source": [
    "df['punct%'] = df['tweet'].apply(lambda x:count_punct(x))"
   ]
  },
  {
   "cell_type": "code",
   "execution_count": 8,
   "id": "c58ea801",
   "metadata": {},
   "outputs": [],
   "source": [
    "from nltk.corpus import stopwords\n",
    "from nltk.stem import PorterStemmer\n",
    "ps = PorterStemmer()"
   ]
  },
  {
   "cell_type": "code",
   "execution_count": null,
   "id": "ec775350",
   "metadata": {},
   "outputs": [],
   "source": [
    "s_words = stopwords.words('english')"
   ]
  },
  {
   "cell_type": "code",
   "execution_count": null,
   "id": "b06ce7ca",
   "metadata": {},
   "outputs": [],
   "source": [
    "#analyser function\n",
    "def clean_text(text):\n",
    "    data = [x for x in text if x not in string.punctuation]\n",
    "    data = ''.join(data)\n",
    "    data= [ps.stem(x) for x in data.split() if x not in s_words]\n",
    "    return data"
   ]
  },
  {
   "cell_type": "code",
   "execution_count": null,
   "id": "bc054b21",
   "metadata": {},
   "outputs": [],
   "source": [
    "clean_text(sent)"
   ]
  },
  {
   "cell_type": "code",
   "execution_count": null,
   "id": "b37370a4",
   "metadata": {},
   "outputs": [],
   "source": [
    "#input data\n",
    "x = df.drop(['label', 'id'],axis = 1)\n",
    "\n",
    "#output data\n",
    "y = df['label']"
   ]
  },
  {
   "cell_type": "code",
   "execution_count": null,
   "id": "48e9ed42",
   "metadata": {},
   "outputs": [],
   "source": [
    "x\n",
    "y"
   ]
  },
  {
   "cell_type": "code",
   "execution_count": null,
   "id": "b502c267",
   "metadata": {},
   "outputs": [],
   "source": [
    "from sklearn.feature_extraction.text import TfidfVectorizer\n",
    "tfidf = TfidfVectorizer(analyzer = clean_text)\n",
    "x_trans = tfidf.fit_transform(x['tweet'])"
   ]
  },
  {
   "cell_type": "code",
   "execution_count": null,
   "id": "06725e05",
   "metadata": {},
   "outputs": [],
   "source": [
    "x_trans.shape"
   ]
  },
  {
   "cell_type": "code",
   "execution_count": null,
   "id": "956583a3",
   "metadata": {},
   "outputs": [],
   "source": [
    "x_vect = pd.concat([x[['tweets_len', 'punct%']] .reset_index(drop = True), pd.DataFrame(x_trans)])"
   ]
  },
  {
   "cell_type": "code",
   "execution_count": null,
   "id": "d8e737bc",
   "metadata": {},
   "outputs": [],
   "source": [
    "from sklearn.model_selection import train_test_split\n",
    "x_train, x_test, y_train, y_test = train_test_split(x_vect, y , stratify=y, random_state=0)"
   ]
  },
  {
   "cell_type": "code",
   "execution_count": null,
   "id": "50172eaa",
   "metadata": {},
   "outputs": [],
   "source": [
    "from sklearn.linear_model import LogisticRegression\n",
    "clf = LogisticRegression()\n",
    "clf.fit(x_train, y_train)"
   ]
  },
  {
   "cell_type": "code",
   "execution_count": null,
   "id": "1fd5b2bc",
   "metadata": {},
   "outputs": [],
   "source": [
    "y_pred = clf.predict(x_test)"
   ]
  },
  {
   "cell_type": "code",
   "execution_count": null,
   "id": "c979b5d3",
   "metadata": {},
   "outputs": [],
   "source": [
    "from sklearn.metrics import accuracy_score\n",
    "accuracy_score(y_test, y_pred)"
   ]
  },
  {
   "cell_type": "code",
   "execution_count": null,
   "id": "0065b73b",
   "metadata": {},
   "outputs": [],
   "source": [
    "accuracy_score(y_test, y_pred)*100"
   ]
  }
 ],
 "metadata": {
  "kernelspec": {
   "display_name": "Python 3 (ipykernel)",
   "language": "python",
   "name": "python3"
  },
  "language_info": {
   "codemirror_mode": {
    "name": "ipython",
    "version": 3
   },
   "file_extension": ".py",
   "mimetype": "text/x-python",
   "name": "python",
   "nbconvert_exporter": "python",
   "pygments_lexer": "ipython3",
   "version": "3.11.7"
  }
 },
 "nbformat": 4,
 "nbformat_minor": 5
}
