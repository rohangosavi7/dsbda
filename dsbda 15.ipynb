{
 "cells": [
  {
   "cell_type": "code",
   "execution_count": 2,
   "id": "1441fdcd",
   "metadata": {},
   "outputs": [],
   "source": [
    "import pandas as pd"
   ]
  },
  {
   "cell_type": "code",
   "execution_count": 5,
   "id": "ded3c096",
   "metadata": {},
   "outputs": [
    {
     "ename": "NameError",
     "evalue": "name 'gitclone' is not defined",
     "output_type": "error",
     "traceback": [
      "\u001b[1;31m---------------------------------------------------------------------------\u001b[0m",
      "\u001b[1;31mNameError\u001b[0m                                 Traceback (most recent call last)",
      "Cell \u001b[1;32mIn[5], line 1\u001b[0m\n\u001b[1;32m----> 1\u001b[0m gitclone\n",
      "\u001b[1;31mNameError\u001b[0m: name 'gitclone' is not defined"
     ]
    }
   ],
   "source": [
    "gitclone"
   ]
  },
  {
   "cell_type": "code",
   "execution_count": null,
   "id": "65997d87",
   "metadata": {},
   "outputs": [],
   "source": [
    "df = read_csv('covid_vaccine_statewise.csv')"
   ]
  },
  {
   "cell_type": "code",
   "execution_count": null,
   "id": "a8d63010",
   "metadata": {},
   "outputs": [],
   "source": [
    "df"
   ]
  },
  {
   "cell_type": "code",
   "execution_count": null,
   "id": "f062d7f6",
   "metadata": {},
   "outputs": [],
   "source": [
    "df.columns"
   ]
  },
  {
   "cell_type": "code",
   "execution_count": null,
   "id": "1269d88f",
   "metadata": {},
   "outputs": [],
   "source": [
    "df.describe()"
   ]
  },
  {
   "cell_type": "code",
   "execution_count": null,
   "id": "f6ba34bd",
   "metadata": {},
   "outputs": [],
   "source": [
    "#Number of persons vaccinated first time for india\n",
    "df[df['state'] == 'India']"
   ]
  },
  {
   "cell_type": "code",
   "execution_count": null,
   "id": "e68b8edf",
   "metadata": {},
   "outputs": [],
   "source": [
    "import numpy as np"
   ]
  },
  {
   "cell_type": "code",
   "execution_count": null,
   "id": "20f54898",
   "metadata": {},
   "outputs": [],
   "source": [
    "states = np.unique(df['State'])"
   ]
  },
  {
   "cell_type": "code",
   "execution_count": null,
   "id": "996a3858",
   "metadata": {},
   "outputs": [],
   "source": [
    "mh = df[df['State'] == 'Maharashtra']"
   ]
  },
  {
   "cell_type": "code",
   "execution_count": null,
   "id": "9c8f35cc",
   "metadata": {},
   "outputs": [],
   "source": [
    "mh['First Dose Administred'].sum()"
   ]
  },
  {
   "cell_type": "code",
   "execution_count": null,
   "id": "45f1a05d",
   "metadata": {},
   "outputs": [],
   "source": [
    "for state in states:\n",
    "    temp = df[df['State'] == state]\n",
    "    print(state, temp['First Dose Administred'].sum())"
   ]
  },
  {
   "cell_type": "code",
   "execution_count": null,
   "id": "15f13e65",
   "metadata": {},
   "outputs": [],
   "source": [
    "first_dose = df[df['Updated On'] == '09/08/2021']"
   ]
  },
  {
   "cell_type": "code",
   "execution_count": null,
   "id": "ab5636f4",
   "metadata": {},
   "outputs": [],
   "source": [
    "first_dose[['State', 'First dose administred']]"
   ]
  },
  {
   "cell_type": "code",
   "execution_count": null,
   "id": "9dbf9ba6",
   "metadata": {},
   "outputs": [],
   "source": [
    "first_dose = df[(df['Updated On'] == '09/08/2021') & (df['State'] != 'India')]"
   ]
  },
  {
   "cell_type": "code",
   "execution_count": null,
   "id": "9e7d192b",
   "metadata": {},
   "outputs": [],
   "source": [
    "x = first_dose[['State', 'First Dose administered']]"
   ]
  },
  {
   "cell_type": "code",
   "execution_count": null,
   "id": "99eb7090",
   "metadata": {},
   "outputs": [],
   "source": [
    "x.to_csv('FirstDoseIndia.csv', index = False)"
   ]
  },
  {
   "cell_type": "code",
   "execution_count": null,
   "id": "412cd84f",
   "metadata": {},
   "outputs": [],
   "source": [
    "Second_dose = df[(df['Updated On'] == '09/08/2021') & (df['State'] != 'India')]\n",
    "x = Second_dose[['State', 'Second dose administered']]\n",
    "x.to_csv('SecondDoseIndia.csv', index = False)"
   ]
  },
  {
   "cell_type": "code",
   "execution_count": null,
   "id": "ea6ccfc2",
   "metadata": {},
   "outputs": [],
   "source": [
    "# 4. number of males vacccinated\n",
    "\n",
    "males = df['Male(Individuals Vaccinated)']"
   ]
  },
  {
   "cell_type": "code",
   "execution_count": null,
   "id": "e6428044",
   "metadata": {},
   "outputs": [],
   "source": [
    "males.max()"
   ]
  },
  {
   "cell_type": "code",
   "execution_count": null,
   "id": "823619d8",
   "metadata": {},
   "outputs": [],
   "source": [
    "females = df['Female(Individuals Vaccinated)']"
   ]
  },
  {
   "cell_type": "code",
   "execution_count": null,
   "id": "cecc9db3",
   "metadata": {},
   "outputs": [],
   "source": [
    "females.max()"
   ]
  }
 ],
 "metadata": {
  "kernelspec": {
   "display_name": "Python 3 (ipykernel)",
   "language": "python",
   "name": "python3"
  },
  "language_info": {
   "codemirror_mode": {
    "name": "ipython",
    "version": 3
   },
   "file_extension": ".py",
   "mimetype": "text/x-python",
   "name": "python",
   "nbconvert_exporter": "python",
   "pygments_lexer": "ipython3",
   "version": "3.11.7"
  }
 },
 "nbformat": 4,
 "nbformat_minor": 5
}
