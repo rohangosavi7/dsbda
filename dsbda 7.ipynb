{
 "cells": [
  {
   "cell_type": "code",
   "execution_count": 2,
   "id": "97640d74",
   "metadata": {},
   "outputs": [
    {
     "name": "stdout",
     "output_type": "stream",
     "text": [
      "Requirement already satisfied: nltk in c:\\users\\rohan\\anaconda3\\lib\\site-packages (3.8.1)\n",
      "Requirement already satisfied: click in c:\\users\\rohan\\anaconda3\\lib\\site-packages (from nltk) (8.1.7)\n",
      "Requirement already satisfied: joblib in c:\\users\\rohan\\anaconda3\\lib\\site-packages (from nltk) (1.2.0)\n",
      "Requirement already satisfied: regex>=2021.8.3 in c:\\users\\rohan\\anaconda3\\lib\\site-packages (from nltk) (2023.10.3)\n",
      "Requirement already satisfied: tqdm in c:\\users\\rohan\\anaconda3\\lib\\site-packages (from nltk) (4.65.0)\n",
      "Requirement already satisfied: colorama in c:\\users\\rohan\\anaconda3\\lib\\site-packages (from click->nltk) (0.4.6)\n"
     ]
    }
   ],
   "source": [
    "!pip install nltk -U"
   ]
  },
  {
   "cell_type": "code",
   "execution_count": 5,
   "id": "b055515d",
   "metadata": {},
   "outputs": [
    {
     "name": "stdout",
     "output_type": "stream",
     "text": [
      "Requirement already satisfied: bs4 in c:\\users\\rohan\\anaconda3\\lib\\site-packages (0.0.2)\n",
      "Requirement already satisfied: beautifulsoup4 in c:\\users\\rohan\\anaconda3\\lib\\site-packages (from bs4) (4.12.2)\n",
      "Requirement already satisfied: soupsieve>1.2 in c:\\users\\rohan\\anaconda3\\lib\\site-packages (from beautifulsoup4->bs4) (2.5)\n"
     ]
    }
   ],
   "source": [
    "!pip install bs4 -U"
   ]
  },
  {
   "cell_type": "code",
   "execution_count": 7,
   "id": "69773b21",
   "metadata": {},
   "outputs": [],
   "source": [
    "import nltk"
   ]
  },
  {
   "cell_type": "code",
   "execution_count": 9,
   "id": "dee983f4",
   "metadata": {},
   "outputs": [
    {
     "name": "stderr",
     "output_type": "stream",
     "text": [
      "[nltk_data] Downloading package stopwords to\n",
      "[nltk_data]     C:\\Users\\rohan\\AppData\\Roaming\\nltk_data...\n",
      "[nltk_data]   Unzipping corpora\\stopwords.zip.\n",
      "[nltk_data] Downloading package punkt to\n",
      "[nltk_data]     C:\\Users\\rohan\\AppData\\Roaming\\nltk_data...\n",
      "[nltk_data]   Package punkt is already up-to-date!\n",
      "[nltk_data] Downloading package wordnet to\n",
      "[nltk_data]     C:\\Users\\rohan\\AppData\\Roaming\\nltk_data...\n",
      "[nltk_data]   Package wordnet is already up-to-date!\n",
      "[nltk_data] Downloading package averaged_perceptron_tagger to\n",
      "[nltk_data]     C:\\Users\\rohan\\AppData\\Roaming\\nltk_data...\n",
      "[nltk_data]   Unzipping taggers\\averaged_perceptron_tagger.zip.\n"
     ]
    },
    {
     "data": {
      "text/plain": [
       "True"
      ]
     },
     "execution_count": 9,
     "metadata": {},
     "output_type": "execute_result"
    }
   ],
   "source": [
    "nltk.download('stopwords')\n",
    "nltk.download('punkt')\n",
    "nltk.download('wordnet')\n",
    "nltk.download('averaged_perceptron_tagger')"
   ]
  },
  {
   "cell_type": "code",
   "execution_count": 13,
   "id": "ed57fcce",
   "metadata": {},
   "outputs": [
    {
     "name": "stdout",
     "output_type": "stream",
     "text": [
      "Rajgad (literal meaning Ruling Fort) is a hill fort situated in the Pune district of Maharashtra, India. Formerly known as Murumdev, the fort was the capital of the Mara tha Empire under the rule of Chatrapati Shivaji Maharaj for almost 26 years, after w hich the capital was moved to the Raigad Fort. [1] Treasures discovered from an adjac ent fort called Torna were used to completely build and fortify the Rajgad Fort.\n"
     ]
    }
   ],
   "source": [
    "import nltk\n",
    "para=\"Rajgad (literal meaning Ruling Fort) is a hill fort situated in the Pune district of Maharashtra, India. Formerly known as Murumdev, the fort was the capital of the Mara tha Empire under the rule of Chatrapati Shivaji Maharaj for almost 26 years, after w hich the capital was moved to the Raigad Fort. [1] Treasures discovered from an adjac ent fort called Torna were used to completely build and fortify the Rajgad Fort.\"\n",
    "print(para)"
   ]
  },
  {
   "cell_type": "code",
   "execution_count": 14,
   "id": "0a133dcc",
   "metadata": {},
   "outputs": [
    {
     "data": {
      "text/plain": [
       "['Rajgad',\n",
       " '(literal',\n",
       " 'meaning',\n",
       " 'Ruling',\n",
       " 'Fort)',\n",
       " 'is',\n",
       " 'a',\n",
       " 'hill',\n",
       " 'fort',\n",
       " 'situated',\n",
       " 'in',\n",
       " 'the',\n",
       " 'Pune',\n",
       " 'district',\n",
       " 'of',\n",
       " 'Maharashtra,',\n",
       " 'India.',\n",
       " 'Formerly',\n",
       " 'known',\n",
       " 'as',\n",
       " 'Murumdev,',\n",
       " 'the',\n",
       " 'fort',\n",
       " 'was',\n",
       " 'the',\n",
       " 'capital',\n",
       " 'of',\n",
       " 'the',\n",
       " 'Mara',\n",
       " 'tha',\n",
       " 'Empire',\n",
       " 'under',\n",
       " 'the',\n",
       " 'rule',\n",
       " 'of',\n",
       " 'Chatrapati',\n",
       " 'Shivaji',\n",
       " 'Maharaj',\n",
       " 'for',\n",
       " 'almost',\n",
       " '26',\n",
       " 'years,',\n",
       " 'after',\n",
       " 'w',\n",
       " 'hich',\n",
       " 'the',\n",
       " 'capital',\n",
       " 'was',\n",
       " 'moved',\n",
       " 'to',\n",
       " 'the',\n",
       " 'Raigad',\n",
       " 'Fort.',\n",
       " '[1]',\n",
       " 'Treasures',\n",
       " 'discovered',\n",
       " 'from',\n",
       " 'an',\n",
       " 'adjac',\n",
       " 'ent',\n",
       " 'fort',\n",
       " 'called',\n",
       " 'Torna',\n",
       " 'were',\n",
       " 'used',\n",
       " 'to',\n",
       " 'completely',\n",
       " 'build',\n",
       " 'and',\n",
       " 'fortify',\n",
       " 'the',\n",
       " 'Rajgad',\n",
       " 'Fort.']"
      ]
     },
     "execution_count": 14,
     "metadata": {},
     "output_type": "execute_result"
    }
   ],
   "source": [
    "para.split()"
   ]
  },
  {
   "cell_type": "code",
   "execution_count": 38,
   "id": "c043f8c1",
   "metadata": {},
   "outputs": [],
   "source": [
    "from nltk.tokenize import sent_tokenize\n",
    "from nltk.tokenize import word_tokenize"
   ]
  },
  {
   "cell_type": "code",
   "execution_count": 40,
   "id": "8ed7d192",
   "metadata": {},
   "outputs": [
    {
     "data": {
      "text/plain": [
       "'[1] Treasures discovered from an adjac ent fort called Torna were used to completely build and fortify the Rajgad Fort.'"
      ]
     },
     "execution_count": 40,
     "metadata": {},
     "output_type": "execute_result"
    }
   ],
   "source": [
    "sent = sent_tokenize (para)\n",
    "sent[2]"
   ]
  },
  {
   "cell_type": "code",
   "execution_count": 41,
   "id": "bf315304",
   "metadata": {},
   "outputs": [
    {
     "data": {
      "text/plain": [
       "['Rajgad',\n",
       " '(',\n",
       " 'literal',\n",
       " 'meaning',\n",
       " 'Ruling',\n",
       " 'Fort',\n",
       " ')',\n",
       " 'is',\n",
       " 'a',\n",
       " 'hill',\n",
       " 'fort',\n",
       " 'situated',\n",
       " 'in',\n",
       " 'the',\n",
       " 'Pune',\n",
       " 'district',\n",
       " 'of',\n",
       " 'Maharashtra',\n",
       " ',',\n",
       " 'India',\n",
       " '.',\n",
       " 'Formerly',\n",
       " 'known',\n",
       " 'as',\n",
       " 'Murumdev',\n",
       " ',',\n",
       " 'the',\n",
       " 'fort',\n",
       " 'was',\n",
       " 'the',\n",
       " 'capital',\n",
       " 'of',\n",
       " 'the',\n",
       " 'Mara',\n",
       " 'tha',\n",
       " 'Empire',\n",
       " 'under',\n",
       " 'the',\n",
       " 'rule',\n",
       " 'of',\n",
       " 'Chatrapati',\n",
       " 'Shivaji',\n",
       " 'Maharaj',\n",
       " 'for',\n",
       " 'almost',\n",
       " '26',\n",
       " 'years',\n",
       " ',',\n",
       " 'after',\n",
       " 'w',\n",
       " 'hich',\n",
       " 'the',\n",
       " 'capital',\n",
       " 'was',\n",
       " 'moved',\n",
       " 'to',\n",
       " 'the',\n",
       " 'Raigad',\n",
       " 'Fort',\n",
       " '.',\n",
       " '[',\n",
       " '1',\n",
       " ']',\n",
       " 'Treasures',\n",
       " 'discovered',\n",
       " 'from',\n",
       " 'an',\n",
       " 'adjac',\n",
       " 'ent',\n",
       " 'fort',\n",
       " 'called',\n",
       " 'Torna',\n",
       " 'were',\n",
       " 'used',\n",
       " 'to',\n",
       " 'completely',\n",
       " 'build',\n",
       " 'and',\n",
       " 'fortify',\n",
       " 'the',\n",
       " 'Rajgad',\n",
       " 'Fort',\n",
       " '.']"
      ]
     },
     "execution_count": 41,
     "metadata": {},
     "output_type": "execute_result"
    }
   ],
   "source": [
    "words = word_tokenize(para)\n",
    "words"
   ]
  },
  {
   "cell_type": "code",
   "execution_count": 16,
   "id": "e0a673f4",
   "metadata": {},
   "outputs": [
    {
     "data": {
      "text/plain": [
       "['i',\n",
       " 'me',\n",
       " 'my',\n",
       " 'myself',\n",
       " 'we',\n",
       " 'our',\n",
       " 'ours',\n",
       " 'ourselves',\n",
       " 'you',\n",
       " \"you're\",\n",
       " \"you've\",\n",
       " \"you'll\",\n",
       " \"you'd\",\n",
       " 'your',\n",
       " 'yours',\n",
       " 'yourself',\n",
       " 'yourselves',\n",
       " 'he',\n",
       " 'him',\n",
       " 'his',\n",
       " 'himself',\n",
       " 'she',\n",
       " \"she's\",\n",
       " 'her',\n",
       " 'hers',\n",
       " 'herself',\n",
       " 'it',\n",
       " \"it's\",\n",
       " 'its',\n",
       " 'itself',\n",
       " 'they',\n",
       " 'them',\n",
       " 'their',\n",
       " 'theirs',\n",
       " 'themselves',\n",
       " 'what',\n",
       " 'which',\n",
       " 'who',\n",
       " 'whom',\n",
       " 'this',\n",
       " 'that',\n",
       " \"that'll\",\n",
       " 'these',\n",
       " 'those',\n",
       " 'am',\n",
       " 'is',\n",
       " 'are',\n",
       " 'was',\n",
       " 'were',\n",
       " 'be',\n",
       " 'been',\n",
       " 'being',\n",
       " 'have',\n",
       " 'has',\n",
       " 'had',\n",
       " 'having',\n",
       " 'do',\n",
       " 'does',\n",
       " 'did',\n",
       " 'doing',\n",
       " 'a',\n",
       " 'an',\n",
       " 'the',\n",
       " 'and',\n",
       " 'but',\n",
       " 'if',\n",
       " 'or',\n",
       " 'because',\n",
       " 'as',\n",
       " 'until',\n",
       " 'while',\n",
       " 'of',\n",
       " 'at',\n",
       " 'by',\n",
       " 'for',\n",
       " 'with',\n",
       " 'about',\n",
       " 'against',\n",
       " 'between',\n",
       " 'into',\n",
       " 'through',\n",
       " 'during',\n",
       " 'before',\n",
       " 'after',\n",
       " 'above',\n",
       " 'below',\n",
       " 'to',\n",
       " 'from',\n",
       " 'up',\n",
       " 'down',\n",
       " 'in',\n",
       " 'out',\n",
       " 'on',\n",
       " 'off',\n",
       " 'over',\n",
       " 'under',\n",
       " 'again',\n",
       " 'further',\n",
       " 'then',\n",
       " 'once',\n",
       " 'here',\n",
       " 'there',\n",
       " 'when',\n",
       " 'where',\n",
       " 'why',\n",
       " 'how',\n",
       " 'all',\n",
       " 'any',\n",
       " 'both',\n",
       " 'each',\n",
       " 'few',\n",
       " 'more',\n",
       " 'most',\n",
       " 'other',\n",
       " 'some',\n",
       " 'such',\n",
       " 'no',\n",
       " 'nor',\n",
       " 'not',\n",
       " 'only',\n",
       " 'own',\n",
       " 'same',\n",
       " 'so',\n",
       " 'than',\n",
       " 'too',\n",
       " 'very',\n",
       " 's',\n",
       " 't',\n",
       " 'can',\n",
       " 'will',\n",
       " 'just',\n",
       " 'don',\n",
       " \"don't\",\n",
       " 'should',\n",
       " \"should've\",\n",
       " 'now',\n",
       " 'd',\n",
       " 'll',\n",
       " 'm',\n",
       " 'o',\n",
       " 're',\n",
       " 've',\n",
       " 'y',\n",
       " 'ain',\n",
       " 'aren',\n",
       " \"aren't\",\n",
       " 'couldn',\n",
       " \"couldn't\",\n",
       " 'didn',\n",
       " \"didn't\",\n",
       " 'doesn',\n",
       " \"doesn't\",\n",
       " 'hadn',\n",
       " \"hadn't\",\n",
       " 'hasn',\n",
       " \"hasn't\",\n",
       " 'haven',\n",
       " \"haven't\",\n",
       " 'isn',\n",
       " \"isn't\",\n",
       " 'ma',\n",
       " 'mightn',\n",
       " \"mightn't\",\n",
       " 'mustn',\n",
       " \"mustn't\",\n",
       " 'needn',\n",
       " \"needn't\",\n",
       " 'shan',\n",
       " \"shan't\",\n",
       " 'shouldn',\n",
       " \"shouldn't\",\n",
       " 'wasn',\n",
       " \"wasn't\",\n",
       " 'weren',\n",
       " \"weren't\",\n",
       " 'won',\n",
       " \"won't\",\n",
       " 'wouldn',\n",
       " \"wouldn't\"]"
      ]
     },
     "execution_count": 16,
     "metadata": {},
     "output_type": "execute_result"
    }
   ],
   "source": [
    "from nltk.corpus import stopwords\n",
    "swords = stopwords.words('english')\n",
    "swords"
   ]
  },
  {
   "cell_type": "code",
   "execution_count": 17,
   "id": "87ae69d2",
   "metadata": {},
   "outputs": [
    {
     "data": {
      "text/plain": [
       "['Rajgad',\n",
       " '(',\n",
       " 'literal',\n",
       " 'meaning',\n",
       " 'Ruling',\n",
       " 'Fort',\n",
       " ')',\n",
       " 'hill',\n",
       " 'fort',\n",
       " 'situated',\n",
       " 'Pune',\n",
       " 'district',\n",
       " 'Maharashtra',\n",
       " ',',\n",
       " 'India',\n",
       " '.',\n",
       " 'Formerly',\n",
       " 'known',\n",
       " 'Murumdev',\n",
       " ',',\n",
       " 'fort',\n",
       " 'capital',\n",
       " 'Mara',\n",
       " 'tha',\n",
       " 'Empire',\n",
       " 'rule',\n",
       " 'Chatrapati',\n",
       " 'Shivaji',\n",
       " 'Maharaj',\n",
       " 'almost',\n",
       " '26',\n",
       " 'years',\n",
       " ',',\n",
       " 'w',\n",
       " 'hich',\n",
       " 'capital',\n",
       " 'moved',\n",
       " 'Raigad',\n",
       " 'Fort',\n",
       " '.',\n",
       " '[',\n",
       " '1',\n",
       " ']',\n",
       " 'Treasures',\n",
       " 'discovered',\n",
       " 'adjac',\n",
       " 'ent',\n",
       " 'fort',\n",
       " 'called',\n",
       " 'Torna',\n",
       " 'used',\n",
       " 'completely',\n",
       " 'build',\n",
       " 'fortify',\n",
       " 'Rajgad',\n",
       " 'Fort',\n",
       " '.']"
      ]
     },
     "execution_count": 17,
     "metadata": {},
     "output_type": "execute_result"
    }
   ],
   "source": [
    "x  =[word for word in words if word not in swords]\n",
    "x"
   ]
  },
  {
   "cell_type": "code",
   "execution_count": 42,
   "id": "de7d3ec9",
   "metadata": {},
   "outputs": [
    {
     "data": {
      "text/plain": [
       "'work'"
      ]
     },
     "execution_count": 42,
     "metadata": {},
     "output_type": "execute_result"
    }
   ],
   "source": [
    "from nltk.stem import PorterStemmer\n",
    "ps = PorterStemmer()\n",
    "ps.stem('working')\n",
    "\n"
   ]
  },
  {
   "cell_type": "code",
   "execution_count": 43,
   "id": "7ec67764",
   "metadata": {},
   "outputs": [
    {
     "data": {
      "text/plain": [
       "['rajgad',\n",
       " '(',\n",
       " 'liter',\n",
       " 'mean',\n",
       " 'rule',\n",
       " 'fort',\n",
       " ')',\n",
       " 'hill',\n",
       " 'fort',\n",
       " 'situat',\n",
       " 'pune',\n",
       " 'district',\n",
       " 'maharashtra',\n",
       " ',',\n",
       " 'india',\n",
       " '.',\n",
       " 'formerli',\n",
       " 'known',\n",
       " 'murumdev',\n",
       " ',',\n",
       " 'fort',\n",
       " 'capit',\n",
       " 'mara',\n",
       " 'tha',\n",
       " 'empir',\n",
       " 'rule',\n",
       " 'chatrapati',\n",
       " 'shivaji',\n",
       " 'maharaj',\n",
       " 'almost',\n",
       " '26',\n",
       " 'year',\n",
       " ',',\n",
       " 'w',\n",
       " 'hich',\n",
       " 'capit',\n",
       " 'move',\n",
       " 'raigad',\n",
       " 'fort',\n",
       " '.',\n",
       " '[',\n",
       " '1',\n",
       " ']',\n",
       " 'treasur',\n",
       " 'discov',\n",
       " 'adjac',\n",
       " 'ent',\n",
       " 'fort',\n",
       " 'call',\n",
       " 'torna',\n",
       " 'use',\n",
       " 'complet',\n",
       " 'build',\n",
       " 'fortifi',\n",
       " 'rajgad',\n",
       " 'fort',\n",
       " '.']"
      ]
     },
     "execution_count": 43,
     "metadata": {},
     "output_type": "execute_result"
    }
   ],
   "source": [
    "y=[ps.stem(word) for word in x]\n",
    "y"
   ]
  },
  {
   "cell_type": "code",
   "execution_count": 44,
   "id": "1ff512e0",
   "metadata": {},
   "outputs": [
    {
     "name": "stderr",
     "output_type": "stream",
     "text": [
      "[nltk_data] Downloading package omw-1.4 to\n",
      "[nltk_data]     C:\\Users\\rohan\\AppData\\Roaming\\nltk_data...\n",
      "[nltk_data]   Package omw-1.4 is already up-to-date!\n"
     ]
    },
    {
     "data": {
      "text/plain": [
       "True"
      ]
     },
     "execution_count": 44,
     "metadata": {},
     "output_type": "execute_result"
    }
   ],
   "source": [
    "from nltk.stem import WordNetLemmatizer\n",
    "wnl=WordNetLemmatizer()\n",
    "\n",
    "nltk.download('omw-1.4')"
   ]
  },
  {
   "cell_type": "code",
   "execution_count": 45,
   "id": "dacfb697",
   "metadata": {},
   "outputs": [
    {
     "data": {
      "text/plain": [
       "'work'"
      ]
     },
     "execution_count": 45,
     "metadata": {},
     "output_type": "execute_result"
    }
   ],
   "source": [
    "wnl.lemmatize('working', pos='v')"
   ]
  },
  {
   "cell_type": "code",
   "execution_count": 47,
   "id": "793ac0cc",
   "metadata": {},
   "outputs": [
    {
     "name": "stdout",
     "output_type": "stream",
     "text": [
      "went\n",
      "go\n"
     ]
    }
   ],
   "source": [
    "print(ps.stem('went'))\n",
    "print(wnl.lemmatize('went', pos='v'))"
   ]
  },
  {
   "cell_type": "code",
   "execution_count": 31,
   "id": "63ef5ae4",
   "metadata": {},
   "outputs": [
    {
     "data": {
      "text/plain": [
       "['Rajgad',\n",
       " '(',\n",
       " 'literal',\n",
       " 'mean',\n",
       " 'Ruling',\n",
       " 'Fort',\n",
       " ')',\n",
       " 'hill',\n",
       " 'fort',\n",
       " 'situate',\n",
       " 'Pune',\n",
       " 'district',\n",
       " 'Maharashtra',\n",
       " ',',\n",
       " 'India',\n",
       " '.',\n",
       " 'Formerly',\n",
       " 'know',\n",
       " 'Murumdev',\n",
       " ',',\n",
       " 'fort',\n",
       " 'capital',\n",
       " 'Mara',\n",
       " 'tha',\n",
       " 'Empire',\n",
       " 'rule',\n",
       " 'Chatrapati',\n",
       " 'Shivaji',\n",
       " 'Maharaj',\n",
       " 'almost',\n",
       " '26',\n",
       " 'years',\n",
       " ',',\n",
       " 'w',\n",
       " 'hich',\n",
       " 'capital',\n",
       " 'move',\n",
       " 'Raigad',\n",
       " 'Fort',\n",
       " '.',\n",
       " '[',\n",
       " '1',\n",
       " ']',\n",
       " 'Treasures',\n",
       " 'discover',\n",
       " 'adjac',\n",
       " 'ent',\n",
       " 'fort',\n",
       " 'call',\n",
       " 'Torna',\n",
       " 'use',\n",
       " 'completely',\n",
       " 'build',\n",
       " 'fortify',\n",
       " 'Rajgad',\n",
       " 'Fort',\n",
       " '.']"
      ]
     },
     "execution_count": 31,
     "metadata": {},
     "output_type": "execute_result"
    }
   ],
   "source": [
    "z = [wnl.lemmatize (word, pos='v') for word in x]\n",
    "z"
   ]
  },
  {
   "cell_type": "code",
   "execution_count": 48,
   "id": "eea4d142",
   "metadata": {},
   "outputs": [
    {
     "data": {
      "text/plain": [
       "'!\"#$%&\\'()*+,-./:;<=>?@[\\\\]^_`{|}~'"
      ]
     },
     "execution_count": 48,
     "metadata": {},
     "output_type": "execute_result"
    }
   ],
   "source": [
    "import string\n",
    "string.punctuation"
   ]
  },
  {
   "cell_type": "code",
   "execution_count": 34,
   "id": "e4522311",
   "metadata": {},
   "outputs": [
    {
     "data": {
      "text/plain": [
       "['Rajgad',\n",
       " 'literal',\n",
       " 'meaning',\n",
       " 'Ruling',\n",
       " 'Fort',\n",
       " 'is',\n",
       " 'a',\n",
       " 'hill',\n",
       " 'fort',\n",
       " 'situated',\n",
       " 'in',\n",
       " 'the',\n",
       " 'Pune',\n",
       " 'district',\n",
       " 'of',\n",
       " 'Maharashtra',\n",
       " 'India',\n",
       " 'Formerly',\n",
       " 'known',\n",
       " 'as',\n",
       " 'Murumdev',\n",
       " 'the',\n",
       " 'fort',\n",
       " 'was',\n",
       " 'the',\n",
       " 'capital',\n",
       " 'of',\n",
       " 'the',\n",
       " 'Mara',\n",
       " 'tha',\n",
       " 'Empire',\n",
       " 'under',\n",
       " 'the',\n",
       " 'rule',\n",
       " 'of',\n",
       " 'Chatrapati',\n",
       " 'Shivaji',\n",
       " 'Maharaj',\n",
       " 'for',\n",
       " 'almost',\n",
       " '26',\n",
       " 'years',\n",
       " 'after',\n",
       " 'w',\n",
       " 'hich',\n",
       " 'the',\n",
       " 'capital',\n",
       " 'was',\n",
       " 'moved',\n",
       " 'to',\n",
       " 'the',\n",
       " 'Raigad',\n",
       " 'Fort',\n",
       " '1',\n",
       " 'Treasures',\n",
       " 'discovered',\n",
       " 'from',\n",
       " 'an',\n",
       " 'adjac',\n",
       " 'ent',\n",
       " 'fort',\n",
       " 'called',\n",
       " 'Torna',\n",
       " 'were',\n",
       " 'used',\n",
       " 'to',\n",
       " 'completely',\n",
       " 'build',\n",
       " 'and',\n",
       " 'fortify',\n",
       " 'the',\n",
       " 'Rajgad',\n",
       " 'Fort']"
      ]
     },
     "execution_count": 34,
     "metadata": {},
     "output_type": "execute_result"
    }
   ],
   "source": [
    "t=[word for word in words if word not in string.punctuation]\n",
    "t"
   ]
  },
  {
   "cell_type": "code",
   "execution_count": 26,
   "id": "a49614a4",
   "metadata": {},
   "outputs": [
    {
     "data": {
      "text/plain": [
       "[('Rajgad', 'NNP'),\n",
       " ('literal', 'JJ'),\n",
       " ('meaning', 'NN'),\n",
       " ('Ruling', 'NNP'),\n",
       " ('Fort', 'NNP'),\n",
       " ('is', 'VBZ'),\n",
       " ('a', 'DT'),\n",
       " ('hill', 'NN'),\n",
       " ('fort', 'NN'),\n",
       " ('situated', 'VBN'),\n",
       " ('in', 'IN'),\n",
       " ('the', 'DT'),\n",
       " ('Pune', 'NNP'),\n",
       " ('district', 'NN'),\n",
       " ('of', 'IN'),\n",
       " ('Maharashtra', 'NNP'),\n",
       " ('India', 'NNP'),\n",
       " ('Formerly', 'RB'),\n",
       " ('known', 'VBN'),\n",
       " ('as', 'IN'),\n",
       " ('Murumdev', 'NNP'),\n",
       " ('the', 'DT'),\n",
       " ('fort', 'NN'),\n",
       " ('was', 'VBD'),\n",
       " ('the', 'DT'),\n",
       " ('capital', 'NN'),\n",
       " ('of', 'IN'),\n",
       " ('the', 'DT'),\n",
       " ('Mara', 'NNP'),\n",
       " ('tha', 'NN'),\n",
       " ('Empire', 'NNP'),\n",
       " ('under', 'IN'),\n",
       " ('the', 'DT'),\n",
       " ('rule', 'NN'),\n",
       " ('of', 'IN'),\n",
       " ('Chatrapati', 'NNP'),\n",
       " ('Shivaji', 'NNP'),\n",
       " ('Maharaj', 'NNP'),\n",
       " ('for', 'IN'),\n",
       " ('almost', 'RB'),\n",
       " ('26', 'CD'),\n",
       " ('years', 'NNS'),\n",
       " ('after', 'IN'),\n",
       " ('w', 'NN'),\n",
       " ('hich', 'VBD'),\n",
       " ('the', 'DT'),\n",
       " ('capital', 'NN'),\n",
       " ('was', 'VBD'),\n",
       " ('moved', 'VBN'),\n",
       " ('to', 'TO'),\n",
       " ('the', 'DT'),\n",
       " ('Raigad', 'NNP'),\n",
       " ('Fort', 'NNP'),\n",
       " ('1', 'CD'),\n",
       " ('Treasures', 'NNS'),\n",
       " ('discovered', 'VBN'),\n",
       " ('from', 'IN'),\n",
       " ('an', 'DT'),\n",
       " ('adjac', 'JJ'),\n",
       " ('ent', 'NN'),\n",
       " ('fort', 'NN'),\n",
       " ('called', 'VBN'),\n",
       " ('Torna', 'NNP'),\n",
       " ('were', 'VBD'),\n",
       " ('used', 'VBN'),\n",
       " ('to', 'TO'),\n",
       " ('completely', 'RB'),\n",
       " ('build', 'VB'),\n",
       " ('and', 'CC'),\n",
       " ('fortify', 'VB'),\n",
       " ('the', 'DT'),\n",
       " ('Rajgad', 'NNP'),\n",
       " ('Fort', 'NNP')]"
      ]
     },
     "execution_count": 26,
     "metadata": {},
     "output_type": "execute_result"
    }
   ],
   "source": [
    "from nltk import pos_tag\n",
    "pos_tag(t)\n"
   ]
  },
  {
   "cell_type": "code",
   "execution_count": null,
   "id": "fa7e5bca",
   "metadata": {},
   "outputs": [],
   "source": [
    "t=[word for word in words if word not in string.punctuation]\n",
    "t\n"
   ]
  },
  {
   "cell_type": "code",
   "execution_count": 36,
   "id": "a234c34c",
   "metadata": {},
   "outputs": [
    {
     "data": {
      "text/plain": [
       "(73, 52)"
      ]
     },
     "execution_count": 36,
     "metadata": {},
     "output_type": "execute_result"
    }
   ],
   "source": [
    "from sklearn.feature_extraction.text import TfidfVectorizer\n",
    "tfidf = TfidfVectorizer()\n",
    "v=tfidf.fit_transform(t)\n",
    "v.shape"
   ]
  },
  {
   "cell_type": "code",
   "execution_count": 37,
   "id": "55a39ab8",
   "metadata": {},
   "outputs": [
    {
     "data": {
      "text/html": [
       "<div>\n",
       "<style scoped>\n",
       "    .dataframe tbody tr th:only-of-type {\n",
       "        vertical-align: middle;\n",
       "    }\n",
       "\n",
       "    .dataframe tbody tr th {\n",
       "        vertical-align: top;\n",
       "    }\n",
       "\n",
       "    .dataframe thead th {\n",
       "        text-align: right;\n",
       "    }\n",
       "</style>\n",
       "<table border=\"1\" class=\"dataframe\">\n",
       "  <thead>\n",
       "    <tr style=\"text-align: right;\">\n",
       "      <th></th>\n",
       "      <th>0</th>\n",
       "    </tr>\n",
       "  </thead>\n",
       "  <tbody>\n",
       "    <tr>\n",
       "      <th>0</th>\n",
       "      <td>(0, 37)\\t1.0</td>\n",
       "    </tr>\n",
       "    <tr>\n",
       "      <th>1</th>\n",
       "      <td>(0, 27)\\t1.0</td>\n",
       "    </tr>\n",
       "    <tr>\n",
       "      <th>2</th>\n",
       "      <td>(0, 31)\\t1.0</td>\n",
       "    </tr>\n",
       "    <tr>\n",
       "      <th>3</th>\n",
       "      <td>(0, 39)\\t1.0</td>\n",
       "    </tr>\n",
       "    <tr>\n",
       "      <th>4</th>\n",
       "      <td>(0, 18)\\t1.0</td>\n",
       "    </tr>\n",
       "    <tr>\n",
       "      <th>...</th>\n",
       "      <td>...</td>\n",
       "    </tr>\n",
       "    <tr>\n",
       "      <th>68</th>\n",
       "      <td>(0, 5)\\t1.0</td>\n",
       "    </tr>\n",
       "    <tr>\n",
       "      <th>69</th>\n",
       "      <td>(0, 19)\\t1.0</td>\n",
       "    </tr>\n",
       "    <tr>\n",
       "      <th>70</th>\n",
       "      <td>(0, 43)\\t1.0</td>\n",
       "    </tr>\n",
       "    <tr>\n",
       "      <th>71</th>\n",
       "      <td>(0, 37)\\t1.0</td>\n",
       "    </tr>\n",
       "    <tr>\n",
       "      <th>72</th>\n",
       "      <td>(0, 18)\\t1.0</td>\n",
       "    </tr>\n",
       "  </tbody>\n",
       "</table>\n",
       "<p>73 rows × 1 columns</p>\n",
       "</div>"
      ],
      "text/plain": [
       "                 0\n",
       "0     (0, 37)\\t1.0\n",
       "1     (0, 27)\\t1.0\n",
       "2     (0, 31)\\t1.0\n",
       "3     (0, 39)\\t1.0\n",
       "4     (0, 18)\\t1.0\n",
       "..             ...\n",
       "68     (0, 5)\\t1.0\n",
       "69    (0, 19)\\t1.0\n",
       "70    (0, 43)\\t1.0\n",
       "71    (0, 37)\\t1.0\n",
       "72    (0, 18)\\t1.0\n",
       "\n",
       "[73 rows x 1 columns]"
      ]
     },
     "execution_count": 37,
     "metadata": {},
     "output_type": "execute_result"
    }
   ],
   "source": [
    "import pandas as pd\n",
    "pd.DataFrame (v)"
   ]
  },
  {
   "cell_type": "code",
   "execution_count": null,
   "id": "4d8e9226",
   "metadata": {},
   "outputs": [],
   "source": []
  }
 ],
 "metadata": {
  "kernelspec": {
   "display_name": "Python 3 (ipykernel)",
   "language": "python",
   "name": "python3"
  },
  "language_info": {
   "codemirror_mode": {
    "name": "ipython",
    "version": 3
   },
   "file_extension": ".py",
   "mimetype": "text/x-python",
   "name": "python",
   "nbconvert_exporter": "python",
   "pygments_lexer": "ipython3",
   "version": "3.11.7"
  }
 },
 "nbformat": 4,
 "nbformat_minor": 5
}
